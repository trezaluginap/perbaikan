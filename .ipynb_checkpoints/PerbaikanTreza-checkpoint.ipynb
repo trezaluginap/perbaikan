{
 "cells": [
  {
   "cell_type": "code",
   "execution_count": 5,
   "id": "eaf4e693",
   "metadata": {},
   "outputs": [
    {
     "name": "stdout",
     "output_type": "stream",
     "text": [
      "Masukan Email Trezalugina@gmail.com\n",
      "True\n"
     ]
    }
   ],
   "source": [
    "#1\n",
    "email =  input(\"Masukan Email \")\n",
    "pos_at = 0\n",
    "pos_titik = 0\n",
    "pos_at = email.find('@')\n",
    "pos_titik = email.find('.')\n",
    "print(pos_at < pos_titik)"
   ]
  },
  {
   "cell_type": "code",
   "execution_count": 6,
   "id": "b5845aaf",
   "metadata": {},
   "outputs": [
    {
     "name": "stdout",
     "output_type": "stream",
     "text": [
      "masukan kalimat: belajar itu menyenangkan\n",
      "b3l4j4r itu m3ny3n4ngk4n\n"
     ]
    }
   ],
   "source": [
    "#2\n",
    "kalimat = input(\"masukan kalimat: \")\n",
    "i = 0\n",
    "kata = ''\n",
    "for i in range (len(kalimat)):\n",
    "    if kalimat[i] == \"a\" or kalimat [i] == \"A\":\n",
    "        kata = kata + \"4\"\n",
    "    elif kalimat [i] == \"e\" or kalimat [i] == \"E\":\n",
    "        kata = kata + \"3\"\n",
    "    elif kalimat [i] == \"L\" :\n",
    "        kata = kata + \"7\"\n",
    "    elif kalimat [i] == \"S\" :\n",
    "        kata =kata + \"5\"\n",
    "    else:\n",
    "        kata = kata + kalimat[i]\n",
    "print(kata)"
   ]
  }
 ],
 "metadata": {
  "kernelspec": {
   "display_name": "Python 3 (ipykernel)",
   "language": "python",
   "name": "python3"
  },
  "language_info": {
   "codemirror_mode": {
    "name": "ipython",
    "version": 3
   },
   "file_extension": ".py",
   "mimetype": "text/x-python",
   "name": "python",
   "nbconvert_exporter": "python",
   "pygments_lexer": "ipython3",
   "version": "3.9.12"
  }
 },
 "nbformat": 4,
 "nbformat_minor": 5
}
